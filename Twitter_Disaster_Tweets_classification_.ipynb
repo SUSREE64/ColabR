{
  "nbformat": 4,
  "nbformat_minor": 0,
  "metadata": {
    "colab": {
      "name": "Twitter Disaster Tweets classification .ipynb",
      "provenance": [],
      "authorship_tag": "ABX9TyMu+LQ5Vhsh86wW8J8p7t2b",
      "include_colab_link": true
    },
    "kernelspec": {
      "name": "ir",
      "display_name": "R"
    },
    "language_info": {
      "name": "R"
    }
  },
  "cells": [
    {
      "cell_type": "markdown",
      "metadata": {
        "id": "view-in-github",
        "colab_type": "text"
      },
      "source": [
        "<a href=\"https://colab.research.google.com/github/SUSREE64/ColabR/blob/main/Twitter_Disaster_Tweets_classification_.ipynb\" target=\"_parent\"><img src=\"https://colab.research.google.com/assets/colab-badge.svg\" alt=\"Open In Colab\"/></a>"
      ]
    },
    {
      "cell_type": "markdown",
      "metadata": {
        "id": "s4fSAtERhUpV"
      },
      "source": [
        "## Twitter Tweets Text Classification with R"
      ]
    },
    {
      "cell_type": "code",
      "metadata": {
        "id": "ftt5BNd3TX6T",
        "colab": {
          "base_uri": "https://localhost:8080/"
        },
        "outputId": "ad6b011e-290f-4678-b9e8-902f66c2f398"
      },
      "source": [
        "library(tidyverse)\n",
        "library(readr)"
      ],
      "execution_count": 4,
      "outputs": [
        {
          "output_type": "stream",
          "text": [
            "Warning message in system(\"timedatectl\", intern = TRUE):\n",
            "“running command 'timedatectl' had status 1”\n",
            "── \u001b[1mAttaching packages\u001b[22m ─────────────────────────────────────── tidyverse 1.3.1 ──\n",
            "\n",
            "\u001b[32m✔\u001b[39m \u001b[34mggplot2\u001b[39m 3.3.3     \u001b[32m✔\u001b[39m \u001b[34mpurrr  \u001b[39m 0.3.4\n",
            "\u001b[32m✔\u001b[39m \u001b[34mtibble \u001b[39m 3.1.1     \u001b[32m✔\u001b[39m \u001b[34mdplyr  \u001b[39m 1.0.5\n",
            "\u001b[32m✔\u001b[39m \u001b[34mtidyr  \u001b[39m 1.1.3     \u001b[32m✔\u001b[39m \u001b[34mstringr\u001b[39m 1.4.0\n",
            "\u001b[32m✔\u001b[39m \u001b[34mreadr  \u001b[39m 1.4.0     \u001b[32m✔\u001b[39m \u001b[34mforcats\u001b[39m 0.5.1\n",
            "\n",
            "── \u001b[1mConflicts\u001b[22m ────────────────────────────────────────── tidyverse_conflicts() ──\n",
            "\u001b[31m✖\u001b[39m \u001b[34mdplyr\u001b[39m::\u001b[32mfilter()\u001b[39m masks \u001b[34mstats\u001b[39m::filter()\n",
            "\u001b[31m✖\u001b[39m \u001b[34mdplyr\u001b[39m::\u001b[32mlag()\u001b[39m    masks \u001b[34mstats\u001b[39m::lag()\n",
            "\n"
          ],
          "name": "stderr"
        }
      ]
    },
    {
      "cell_type": "markdown",
      "metadata": {
        "id": "95ej4H6AhftG"
      },
      "source": [
        "### Getting The train.csv and test.csv files into the R Dataframes "
      ]
    },
    {
      "cell_type": "code",
      "metadata": {
        "id": "aNd5jZsIb5UX"
      },
      "source": [
        "# it is important to get the file path raw\n",
        "train_path = \"https://raw.githubusercontent.com/SUSREE64/ColabR/main/train.csv\"\n",
        "test_path = \"https://raw.githubusercontent.com/SUSREE64/ColabR/main/test.csv\"\n"
      ],
      "execution_count": 5,
      "outputs": []
    },
    {
      "cell_type": "code",
      "metadata": {
        "colab": {
          "base_uri": "https://localhost:8080/"
        },
        "id": "YNg5Pyt0dQPF",
        "outputId": "90040561-230e-4cbd-f437-763082eccbfb"
      },
      "source": [
        "# Read files\n",
        "train_df <- read_csv(url(train_path))\n",
        "test_df <- read_csv(url(test_path))"
      ],
      "execution_count": 6,
      "outputs": [
        {
          "output_type": "stream",
          "text": [
            "\n",
            "\u001b[36m──\u001b[39m \u001b[1m\u001b[1mColumn specification\u001b[1m\u001b[22m \u001b[36m────────────────────────────────────────────────────────\u001b[39m\n",
            "cols(\n",
            "  id = \u001b[32mcol_double()\u001b[39m,\n",
            "  keyword = \u001b[31mcol_character()\u001b[39m,\n",
            "  location = \u001b[31mcol_character()\u001b[39m,\n",
            "  text = \u001b[31mcol_character()\u001b[39m,\n",
            "  target = \u001b[32mcol_double()\u001b[39m\n",
            ")\n",
            "\n",
            "\n",
            "\n",
            "\u001b[36m──\u001b[39m \u001b[1m\u001b[1mColumn specification\u001b[1m\u001b[22m \u001b[36m────────────────────────────────────────────────────────\u001b[39m\n",
            "cols(\n",
            "  id = \u001b[32mcol_double()\u001b[39m,\n",
            "  keyword = \u001b[31mcol_character()\u001b[39m,\n",
            "  location = \u001b[31mcol_character()\u001b[39m,\n",
            "  text = \u001b[31mcol_character()\u001b[39m\n",
            ")\n",
            "\n",
            "\n"
          ],
          "name": "stderr"
        }
      ]
    },
    {
      "cell_type": "code",
      "metadata": {
        "colab": {
          "base_uri": "https://localhost:8080/",
          "height": 271
        },
        "id": "rFQUsq1ed5En",
        "outputId": "6251ab72-1ec3-4178-ebf7-1ef16eb666dd"
      },
      "source": [
        "head(train_df)"
      ],
      "execution_count": 7,
      "outputs": [
        {
          "output_type": "display_data",
          "data": {
            "text/plain": [
              "  id keyword location\n",
              "1 1  NA      NA      \n",
              "2 4  NA      NA      \n",
              "3 5  NA      NA      \n",
              "4 6  NA      NA      \n",
              "5 7  NA      NA      \n",
              "6 8  NA      NA      \n",
              "  text                                                                                                                                 \n",
              "1 Our Deeds are the Reason of this #earthquake May ALLAH Forgive us all                                                                \n",
              "2 Forest fire near La Ronge Sask. Canada                                                                                               \n",
              "3 All residents asked to 'shelter in place' are being notified by officers. No other evacuation or shelter in place orders are expected\n",
              "4 13,000 people receive #wildfires evacuation orders in California                                                                     \n",
              "5 Just got sent this photo from Ruby #Alaska as smoke from #wildfires pours into a school                                              \n",
              "6 #RockyFire Update => California Hwy. 20 closed in both directions due to Lake County fire - #CAfire #wildfires                       \n",
              "  target\n",
              "1 1     \n",
              "2 1     \n",
              "3 1     \n",
              "4 1     \n",
              "5 1     \n",
              "6 1     "
            ],
            "text/latex": "A tibble: 6 × 5\n\\begin{tabular}{lllll}\n id & keyword & location & text & target\\\\\n <dbl> & <chr> & <chr> & <chr> & <dbl>\\\\\n\\hline\n\t 1 & NA & NA & Our Deeds are the Reason of this \\#earthquake May ALLAH Forgive us all                                                                 & 1\\\\\n\t 4 & NA & NA & Forest fire near La Ronge Sask. Canada                                                                                                & 1\\\\\n\t 5 & NA & NA & All residents asked to 'shelter in place' are being notified by officers. No other evacuation or shelter in place orders are expected & 1\\\\\n\t 6 & NA & NA & 13,000 people receive \\#wildfires evacuation orders in California                                                                      & 1\\\\\n\t 7 & NA & NA & Just got sent this photo from Ruby \\#Alaska as smoke from \\#wildfires pours into a school                                               & 1\\\\\n\t 8 & NA & NA & \\#RockyFire Update => California Hwy. 20 closed in both directions due to Lake County fire - \\#CAfire \\#wildfires                        & 1\\\\\n\\end{tabular}\n",
            "text/markdown": "\nA tibble: 6 × 5\n\n| id &lt;dbl&gt; | keyword &lt;chr&gt; | location &lt;chr&gt; | text &lt;chr&gt; | target &lt;dbl&gt; |\n|---|---|---|---|---|\n| 1 | NA | NA | Our Deeds are the Reason of this #earthquake May ALLAH Forgive us all                                                                 | 1 |\n| 4 | NA | NA | Forest fire near La Ronge Sask. Canada                                                                                                | 1 |\n| 5 | NA | NA | All residents asked to 'shelter in place' are being notified by officers. No other evacuation or shelter in place orders are expected | 1 |\n| 6 | NA | NA | 13,000 people receive #wildfires evacuation orders in California                                                                      | 1 |\n| 7 | NA | NA | Just got sent this photo from Ruby #Alaska as smoke from #wildfires pours into a school                                               | 1 |\n| 8 | NA | NA | #RockyFire Update =&gt; California Hwy. 20 closed in both directions due to Lake County fire - #CAfire #wildfires                        | 1 |\n\n",
            "text/html": [
              "<table class=\"dataframe\">\n",
              "<caption>A tibble: 6 × 5</caption>\n",
              "<thead>\n",
              "\t<tr><th scope=col>id</th><th scope=col>keyword</th><th scope=col>location</th><th scope=col>text</th><th scope=col>target</th></tr>\n",
              "\t<tr><th scope=col>&lt;dbl&gt;</th><th scope=col>&lt;chr&gt;</th><th scope=col>&lt;chr&gt;</th><th scope=col>&lt;chr&gt;</th><th scope=col>&lt;dbl&gt;</th></tr>\n",
              "</thead>\n",
              "<tbody>\n",
              "\t<tr><td>1</td><td>NA</td><td>NA</td><td>Our Deeds are the Reason of this #earthquake May ALLAH Forgive us all                                                                </td><td>1</td></tr>\n",
              "\t<tr><td>4</td><td>NA</td><td>NA</td><td>Forest fire near La Ronge Sask. Canada                                                                                               </td><td>1</td></tr>\n",
              "\t<tr><td>5</td><td>NA</td><td>NA</td><td>All residents asked to 'shelter in place' are being notified by officers. No other evacuation or shelter in place orders are expected</td><td>1</td></tr>\n",
              "\t<tr><td>6</td><td>NA</td><td>NA</td><td>13,000 people receive #wildfires evacuation orders in California                                                                     </td><td>1</td></tr>\n",
              "\t<tr><td>7</td><td>NA</td><td>NA</td><td>Just got sent this photo from Ruby #Alaska as smoke from #wildfires pours into a school                                              </td><td>1</td></tr>\n",
              "\t<tr><td>8</td><td>NA</td><td>NA</td><td><span style=white-space:pre-wrap>#RockyFire Update =&gt; California Hwy. 20 closed in both directions due to Lake County fire - #CAfire #wildfires                       </span></td><td>1</td></tr>\n",
              "</tbody>\n",
              "</table>\n"
            ]
          },
          "metadata": {
            "tags": []
          }
        }
      ]
    },
    {
      "cell_type": "code",
      "metadata": {
        "id": "Li2GTNW7gLLo",
        "colab": {
          "base_uri": "https://localhost:8080/",
          "height": 271
        },
        "outputId": "e4cbf1bd-cf74-430c-81c4-87edd9929c44"
      },
      "source": [
        "head(test_df)"
      ],
      "execution_count": 8,
      "outputs": [
        {
          "output_type": "display_data",
          "data": {
            "text/plain": [
              "  id keyword location\n",
              "1  0 NA      NA      \n",
              "2  2 NA      NA      \n",
              "3  3 NA      NA      \n",
              "4  9 NA      NA      \n",
              "5 11 NA      NA      \n",
              "6 12 NA      NA      \n",
              "  text                                                                                            \n",
              "1 Just happened a terrible car crash                                                              \n",
              "2 Heard about #earthquake is different cities, stay safe everyone.                                \n",
              "3 there is a forest fire at spot pond, geese are fleeing across the street, I cannot save them all\n",
              "4 Apocalypse lighting. #Spokane #wildfires                                                        \n",
              "5 Typhoon Soudelor kills 28 in China and Taiwan                                                   \n",
              "6 We're shaking...It's an earthquake                                                              "
            ],
            "text/latex": "A tibble: 6 × 4\n\\begin{tabular}{llll}\n id & keyword & location & text\\\\\n <dbl> & <chr> & <chr> & <chr>\\\\\n\\hline\n\t  0 & NA & NA & Just happened a terrible car crash                                                              \\\\\n\t  2 & NA & NA & Heard about \\#earthquake is different cities, stay safe everyone.                                \\\\\n\t  3 & NA & NA & there is a forest fire at spot pond, geese are fleeing across the street, I cannot save them all\\\\\n\t  9 & NA & NA & Apocalypse lighting. \\#Spokane \\#wildfires                                                        \\\\\n\t 11 & NA & NA & Typhoon Soudelor kills 28 in China and Taiwan                                                   \\\\\n\t 12 & NA & NA & We're shaking...It's an earthquake                                                              \\\\\n\\end{tabular}\n",
            "text/markdown": "\nA tibble: 6 × 4\n\n| id &lt;dbl&gt; | keyword &lt;chr&gt; | location &lt;chr&gt; | text &lt;chr&gt; |\n|---|---|---|---|\n|  0 | NA | NA | Just happened a terrible car crash                                                               |\n|  2 | NA | NA | Heard about #earthquake is different cities, stay safe everyone.                                 |\n|  3 | NA | NA | there is a forest fire at spot pond, geese are fleeing across the street, I cannot save them all |\n|  9 | NA | NA | Apocalypse lighting. #Spokane #wildfires                                                         |\n| 11 | NA | NA | Typhoon Soudelor kills 28 in China and Taiwan                                                    |\n| 12 | NA | NA | We're shaking...It's an earthquake                                                               |\n\n",
            "text/html": [
              "<table class=\"dataframe\">\n",
              "<caption>A tibble: 6 × 4</caption>\n",
              "<thead>\n",
              "\t<tr><th scope=col>id</th><th scope=col>keyword</th><th scope=col>location</th><th scope=col>text</th></tr>\n",
              "\t<tr><th scope=col>&lt;dbl&gt;</th><th scope=col>&lt;chr&gt;</th><th scope=col>&lt;chr&gt;</th><th scope=col>&lt;chr&gt;</th></tr>\n",
              "</thead>\n",
              "<tbody>\n",
              "\t<tr><td> 0</td><td>NA</td><td>NA</td><td>Just happened a terrible car crash                                                              </td></tr>\n",
              "\t<tr><td> 2</td><td>NA</td><td>NA</td><td>Heard about #earthquake is different cities, stay safe everyone.                                </td></tr>\n",
              "\t<tr><td> 3</td><td>NA</td><td>NA</td><td>there is a forest fire at spot pond, geese are fleeing across the street, I cannot save them all</td></tr>\n",
              "\t<tr><td> 9</td><td>NA</td><td>NA</td><td>Apocalypse lighting. #Spokane #wildfires                                                        </td></tr>\n",
              "\t<tr><td>11</td><td>NA</td><td>NA</td><td>Typhoon Soudelor kills 28 in China and Taiwan                                                   </td></tr>\n",
              "\t<tr><td>12</td><td>NA</td><td>NA</td><td>We're shaking...It's an earthquake                                                              </td></tr>\n",
              "</tbody>\n",
              "</table>\n"
            ]
          },
          "metadata": {
            "tags": []
          }
        }
      ]
    },
    {
      "cell_type": "code",
      "metadata": {
        "id": "qoHPk8r9id6w"
      },
      "source": [
        ""
      ],
      "execution_count": null,
      "outputs": []
    }
  ]
}
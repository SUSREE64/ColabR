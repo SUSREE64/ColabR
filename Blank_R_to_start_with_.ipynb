{
  "nbformat": 4,
  "nbformat_minor": 0,
  "metadata": {
    "colab": {
      "name": "Blank R to start with .ipynb",
      "provenance": [],
      "authorship_tag": "ABX9TyPFGaO/7WheD40Aalc4rgWz",
      "include_colab_link": true
    },
    "kernelspec": {
      "name": "ir",
      "display_name": "R"
    },
    "language_info": {
      "name": "R"
    }
  },
  "cells": [
    {
      "cell_type": "markdown",
      "metadata": {
        "id": "view-in-github",
        "colab_type": "text"
      },
      "source": [
        "<a href=\"https://colab.research.google.com/github/SUSREE64/ColabR/blob/main/Blank_R_to_start_with_.ipynb\" target=\"_parent\"><img src=\"https://colab.research.google.com/assets/colab-badge.svg\" alt=\"Open In Colab\"/></a>"
      ]
    },
    {
      "cell_type": "code",
      "metadata": {
        "id": "yPsUBodeI8N6"
      },
      "source": [
        ""
      ],
      "execution_count": null,
      "outputs": []
    },
    {
      "cell_type": "markdown",
      "metadata": {
        "id": "6sDPFgusJDDu"
      },
      "source": [
        "#### This is bare bones R kernel we can use to start up a note book "
      ]
    },
    {
      "cell_type": "code",
      "metadata": {
        "id": "LeSj3N2vJK4_"
      },
      "source": [
        "a <- 10\n",
        "b <- 10"
      ],
      "execution_count": null,
      "outputs": []
    },
    {
      "cell_type": "code",
      "metadata": {
        "colab": {
          "base_uri": "https://localhost:8080/"
        },
        "id": "RphxQYnJJPAA",
        "outputId": "d0d27175-01ce-464b-ad0f-6dc0f561bdb3"
      },
      "source": [
        "print(a+b)"
      ],
      "execution_count": null,
      "outputs": [
        {
          "output_type": "stream",
          "text": [
            "[1] 20\n"
          ],
          "name": "stdout"
        }
      ]
    },
    {
      "cell_type": "code",
      "metadata": {
        "id": "ftt5BNd3TX6T"
      },
      "source": [
        "library(tidyverse)"
      ],
      "execution_count": 16,
      "outputs": []
    },
    {
      "cell_type": "code",
      "metadata": {
        "id": "aNd5jZsIb5UX"
      },
      "source": [
        "# it is important to get the file path raw\n",
        "train_path = \"https://raw.githubusercontent.com/SUSREE64/ColabR/main/train.csv\"\n"
      ],
      "execution_count": 58,
      "outputs": []
    },
    {
      "cell_type": "code",
      "metadata": {
        "id": "YNg5Pyt0dQPF",
        "outputId": "27852691-cca1-41f5-a53d-8c9bf0be1e83",
        "colab": {
          "base_uri": "https://localhost:8080/"
        }
      },
      "source": [
        "library(readr)\n",
        "train_df <- read_csv(url(train_path))"
      ],
      "execution_count": 59,
      "outputs": [
        {
          "output_type": "stream",
          "text": [
            "\n",
            "\u001b[36m──\u001b[39m \u001b[1m\u001b[1mColumn specification\u001b[1m\u001b[22m \u001b[36m────────────────────────────────────────────────────────\u001b[39m\n",
            "cols(\n",
            "  id = \u001b[32mcol_double()\u001b[39m,\n",
            "  keyword = \u001b[31mcol_character()\u001b[39m,\n",
            "  location = \u001b[31mcol_character()\u001b[39m,\n",
            "  text = \u001b[31mcol_character()\u001b[39m,\n",
            "  target = \u001b[32mcol_double()\u001b[39m\n",
            ")\n",
            "\n",
            "\n"
          ],
          "name": "stderr"
        }
      ]
    },
    {
      "cell_type": "code",
      "metadata": {
        "id": "rFQUsq1ed5En",
        "outputId": "4d782239-c822-4684-a0e8-369d5bc0a38d",
        "colab": {
          "base_uri": "https://localhost:8080/",
          "height": 271
        }
      },
      "source": [
        "head(train_df)"
      ],
      "execution_count": 60,
      "outputs": [
        {
          "output_type": "display_data",
          "data": {
            "text/plain": [
              "  id keyword location\n",
              "1 1  NA      NA      \n",
              "2 4  NA      NA      \n",
              "3 5  NA      NA      \n",
              "4 6  NA      NA      \n",
              "5 7  NA      NA      \n",
              "6 8  NA      NA      \n",
              "  text                                                                                                                                 \n",
              "1 Our Deeds are the Reason of this #earthquake May ALLAH Forgive us all                                                                \n",
              "2 Forest fire near La Ronge Sask. Canada                                                                                               \n",
              "3 All residents asked to 'shelter in place' are being notified by officers. No other evacuation or shelter in place orders are expected\n",
              "4 13,000 people receive #wildfires evacuation orders in California                                                                     \n",
              "5 Just got sent this photo from Ruby #Alaska as smoke from #wildfires pours into a school                                              \n",
              "6 #RockyFire Update => California Hwy. 20 closed in both directions due to Lake County fire - #CAfire #wildfires                       \n",
              "  target\n",
              "1 1     \n",
              "2 1     \n",
              "3 1     \n",
              "4 1     \n",
              "5 1     \n",
              "6 1     "
            ],
            "text/latex": "A tibble: 6 × 5\n\\begin{tabular}{lllll}\n id & keyword & location & text & target\\\\\n <dbl> & <chr> & <chr> & <chr> & <dbl>\\\\\n\\hline\n\t 1 & NA & NA & Our Deeds are the Reason of this \\#earthquake May ALLAH Forgive us all                                                                 & 1\\\\\n\t 4 & NA & NA & Forest fire near La Ronge Sask. Canada                                                                                                & 1\\\\\n\t 5 & NA & NA & All residents asked to 'shelter in place' are being notified by officers. No other evacuation or shelter in place orders are expected & 1\\\\\n\t 6 & NA & NA & 13,000 people receive \\#wildfires evacuation orders in California                                                                      & 1\\\\\n\t 7 & NA & NA & Just got sent this photo from Ruby \\#Alaska as smoke from \\#wildfires pours into a school                                               & 1\\\\\n\t 8 & NA & NA & \\#RockyFire Update => California Hwy. 20 closed in both directions due to Lake County fire - \\#CAfire \\#wildfires                        & 1\\\\\n\\end{tabular}\n",
            "text/markdown": "\nA tibble: 6 × 5\n\n| id &lt;dbl&gt; | keyword &lt;chr&gt; | location &lt;chr&gt; | text &lt;chr&gt; | target &lt;dbl&gt; |\n|---|---|---|---|---|\n| 1 | NA | NA | Our Deeds are the Reason of this #earthquake May ALLAH Forgive us all                                                                 | 1 |\n| 4 | NA | NA | Forest fire near La Ronge Sask. Canada                                                                                                | 1 |\n| 5 | NA | NA | All residents asked to 'shelter in place' are being notified by officers. No other evacuation or shelter in place orders are expected | 1 |\n| 6 | NA | NA | 13,000 people receive #wildfires evacuation orders in California                                                                      | 1 |\n| 7 | NA | NA | Just got sent this photo from Ruby #Alaska as smoke from #wildfires pours into a school                                               | 1 |\n| 8 | NA | NA | #RockyFire Update =&gt; California Hwy. 20 closed in both directions due to Lake County fire - #CAfire #wildfires                        | 1 |\n\n",
            "text/html": [
              "<table class=\"dataframe\">\n",
              "<caption>A tibble: 6 × 5</caption>\n",
              "<thead>\n",
              "\t<tr><th scope=col>id</th><th scope=col>keyword</th><th scope=col>location</th><th scope=col>text</th><th scope=col>target</th></tr>\n",
              "\t<tr><th scope=col>&lt;dbl&gt;</th><th scope=col>&lt;chr&gt;</th><th scope=col>&lt;chr&gt;</th><th scope=col>&lt;chr&gt;</th><th scope=col>&lt;dbl&gt;</th></tr>\n",
              "</thead>\n",
              "<tbody>\n",
              "\t<tr><td>1</td><td>NA</td><td>NA</td><td>Our Deeds are the Reason of this #earthquake May ALLAH Forgive us all                                                                </td><td>1</td></tr>\n",
              "\t<tr><td>4</td><td>NA</td><td>NA</td><td>Forest fire near La Ronge Sask. Canada                                                                                               </td><td>1</td></tr>\n",
              "\t<tr><td>5</td><td>NA</td><td>NA</td><td>All residents asked to 'shelter in place' are being notified by officers. No other evacuation or shelter in place orders are expected</td><td>1</td></tr>\n",
              "\t<tr><td>6</td><td>NA</td><td>NA</td><td>13,000 people receive #wildfires evacuation orders in California                                                                     </td><td>1</td></tr>\n",
              "\t<tr><td>7</td><td>NA</td><td>NA</td><td>Just got sent this photo from Ruby #Alaska as smoke from #wildfires pours into a school                                              </td><td>1</td></tr>\n",
              "\t<tr><td>8</td><td>NA</td><td>NA</td><td><span style=white-space:pre-wrap>#RockyFire Update =&gt; California Hwy. 20 closed in both directions due to Lake County fire - #CAfire #wildfires                       </span></td><td>1</td></tr>\n",
              "</tbody>\n",
              "</table>\n"
            ]
          },
          "metadata": {
            "tags": []
          }
        }
      ]
    },
    {
      "cell_type": "code",
      "metadata": {
        "id": "Li2GTNW7gLLo"
      },
      "source": [
        ""
      ],
      "execution_count": null,
      "outputs": []
    }
  ]
}
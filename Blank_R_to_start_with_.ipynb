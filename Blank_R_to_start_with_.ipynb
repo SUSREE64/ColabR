{
  "nbformat": 4,
  "nbformat_minor": 0,
  "metadata": {
    "colab": {
      "name": "Blank R to start with .ipynb",
      "provenance": [],
      "authorship_tag": "ABX9TyOObDimAffP8ENKM2zy2Rl4",
      "include_colab_link": true
    },
    "kernelspec": {
      "name": "ir",
      "display_name": "R"
    },
    "language_info": {
      "name": "R"
    }
  },
  "cells": [
    {
      "cell_type": "markdown",
      "metadata": {
        "id": "view-in-github",
        "colab_type": "text"
      },
      "source": [
        "<a href=\"https://colab.research.google.com/github/SUSREE64/ColabR/blob/main/Blank_R_to_start_with_.ipynb\" target=\"_parent\"><img src=\"https://colab.research.google.com/assets/colab-badge.svg\" alt=\"Open In Colab\"/></a>"
      ]
    },
    {
      "cell_type": "code",
      "metadata": {
        "id": "yPsUBodeI8N6"
      },
      "source": [
        ""
      ],
      "execution_count": null,
      "outputs": []
    },
    {
      "cell_type": "markdown",
      "metadata": {
        "id": "6sDPFgusJDDu"
      },
      "source": [
        "#### This is bare bones R kernel we can use to start up a note book "
      ]
    },
    {
      "cell_type": "code",
      "metadata": {
        "id": "LeSj3N2vJK4_"
      },
      "source": [
        "a <- 10\n",
        "b <- 10"
      ],
      "execution_count": 1,
      "outputs": []
    },
    {
      "cell_type": "code",
      "metadata": {
        "colab": {
          "base_uri": "https://localhost:8080/"
        },
        "id": "RphxQYnJJPAA",
        "outputId": "d0d27175-01ce-464b-ad0f-6dc0f561bdb3"
      },
      "source": [
        "print(a+b)"
      ],
      "execution_count": 2,
      "outputs": [
        {
          "output_type": "stream",
          "text": [
            "[1] 20\n"
          ],
          "name": "stdout"
        }
      ]
    },
    {
      "cell_type": "code",
      "metadata": {
        "id": "FMkdUhFUJQZv"
      },
      "source": [
        ""
      ],
      "execution_count": null,
      "outputs": []
    }
  ]
}
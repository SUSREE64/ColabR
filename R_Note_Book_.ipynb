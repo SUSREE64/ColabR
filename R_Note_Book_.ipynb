{
  "nbformat": 4,
  "nbformat_minor": 0,
  "metadata": {
    "colab": {
      "name": "R Note Book .ipynb",
      "provenance": [],
      "authorship_tag": "ABX9TyMaAUmphDyNqeua+fcJTCWH",
      "include_colab_link": true
    },
    "kernelspec": {
      "name": "ir",
      "display_name": "R"
    },
    "language_info": {
      "name": "R"
    }
  },
  "cells": [
    {
      "cell_type": "markdown",
      "metadata": {
        "id": "view-in-github",
        "colab_type": "text"
      },
      "source": [
        "<a href=\"https://colab.research.google.com/github/SUSREE64/ColabR/blob/main/R_Note_Book_.ipynb\" target=\"_parent\"><img src=\"https://colab.research.google.com/assets/colab-badge.svg\" alt=\"Open In Colab\"/></a>"
      ]
    },
    {
      "cell_type": "code",
      "metadata": {
        "colab": {
          "base_uri": "https://localhost:8080/",
          "height": 269
        },
        "id": "aukZnrBKCGj1",
        "outputId": "65256a61-00dc-4f71-e70b-7b07ed93afc3"
      },
      "source": [
        "version"
      ],
      "execution_count": 1,
      "outputs": [
        {
          "output_type": "display_data",
          "data": {
            "text/plain": [
              "               _                           \n",
              "platform       x86_64-pc-linux-gnu         \n",
              "arch           x86_64                      \n",
              "os             linux-gnu                   \n",
              "system         x86_64, linux-gnu           \n",
              "status                                     \n",
              "major          4                           \n",
              "minor          0.5                         \n",
              "year           2021                        \n",
              "month          03                          \n",
              "day            31                          \n",
              "svn rev        80133                       \n",
              "language       R                           \n",
              "version.string R version 4.0.5 (2021-03-31)\n",
              "nickname       Shake and Throw             "
            ]
          },
          "metadata": {
            "tags": []
          }
        }
      ]
    },
    {
      "cell_type": "code",
      "metadata": {
        "id": "VrLNFFtfCI-u"
      },
      "source": [
        ""
      ],
      "execution_count": null,
      "outputs": []
    }
  ]
}
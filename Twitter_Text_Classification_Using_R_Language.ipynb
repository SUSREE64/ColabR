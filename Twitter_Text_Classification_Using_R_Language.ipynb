{
  "nbformat": 4,
  "nbformat_minor": 0,
  "metadata": {
    "colab": {
      "name": "Twitter Text Classification Using R Language.ipynb",
      "provenance": [],
      "authorship_tag": "ABX9TyPDman8eeZulvnOykjFc3nu",
      "include_colab_link": true
    },
    "kernelspec": {
      "name": "ir",
      "display_name": "R"
    },
    "language_info": {
      "name": "R"
    }
  },
  "cells": [
    {
      "cell_type": "markdown",
      "metadata": {
        "id": "view-in-github",
        "colab_type": "text"
      },
      "source": [
        "<a href=\"https://colab.research.google.com/github/SUSREE64/ColabR/blob/main/Twitter_Text_Classification_Using_R_Language.ipynb\" target=\"_parent\"><img src=\"https://colab.research.google.com/assets/colab-badge.svg\" alt=\"Open In Colab\"/></a>"
      ]
    },
    {
      "cell_type": "markdown",
      "metadata": {
        "id": "_n1M8hZ7Eoti"
      },
      "source": [
        "### Text Classification using R Language"
      ]
    },
    {
      "cell_type": "code",
      "metadata": {
        "id": "VrLNFFtfCI-u"
      },
      "source": [
        ""
      ],
      "execution_count": null,
      "outputs": []
    }
  ]
}